{
  "nbformat": 4,
  "nbformat_minor": 0,
  "metadata": {
    "colab": {
      "provenance": []
    },
    "kernelspec": {
      "name": "python3",
      "display_name": "Python 3"
    },
    "language_info": {
      "name": "python"
    }
  },
  "cells": [
    {
      "cell_type": "markdown",
      "source": [
        "# 🌟 La naturaleza electromagnética de la Luz  \n",
        "\n",
        "## 🔬 Introducción  \n",
        "La luz es una manifestación de las ondas electromagnéticas, las cuales consisten en la vibración acoplada de los campos **eléctrico** y **magnético** que oscilan de manera perpendicular entre sí y en dirección perpendicular a su propagación. Este comportamiento se explica a través de las ecuaciones de Maxwell, que establecen la relación matemática entre estos campos y describen la propagación de la luz en el vacío y en diferentes medios materiales (Griffiths, 2017).  \n",
        "\n",
        "El estudio de la luz como onda electromagnética es fundamental en diversas áreas de la física y la ingeniería, desde la óptica clásica hasta la teoría cuántica de la radiación. En este experimento, analizamos de manera interactiva cómo los campos eléctrico y magnético varían en el tiempo y en el espacio, ilustrando su naturaleza oscilatoria.  \n",
        "\n"
      ],
      "metadata": {
        "id": "g8zVXhhIp8eE"
      }
    },
    {
      "cell_type": "code",
      "execution_count": 2,
      "metadata": {
        "colab": {
          "base_uri": "https://localhost:8080/",
          "height": 617
        },
        "id": "lz_3rcoxm2ro",
        "outputId": "7ca84e71-7457-41f1-8cb4-e3ae0446fdb9"
      },
      "outputs": [
        {
          "output_type": "display_data",
          "data": {
            "text/html": [
              "<html>\n",
              "<head><meta charset=\"utf-8\" /></head>\n",
              "<body>\n",
              "    <div>            <script src=\"https://cdnjs.cloudflare.com/ajax/libs/mathjax/2.7.5/MathJax.js?config=TeX-AMS-MML_SVG\"></script><script type=\"text/javascript\">if (window.MathJax && window.MathJax.Hub && window.MathJax.Hub.Config) {window.MathJax.Hub.Config({SVG: {font: \"STIX-Web\"}});}</script>                <script type=\"text/javascript\">window.PlotlyConfig = {MathJaxConfig: 'local'};</script>\n",
              "        <script charset=\"utf-8\" src=\"https://cdn.plot.ly/plotly-2.35.2.min.js\"></script>                <div id=\"f6d5bf34-2687-45da-80dd-f3a7edaaa4cd\" class=\"plotly-graph-div\" style=\"height:600px; width:800px;\"></div>            <script type=\"text/javascript\">                                    window.PLOTLYENV=window.PLOTLYENV || {};                                    if (document.getElementById(\"f6d5bf34-2687-45da-80dd-f3a7edaaa4cd\")) {                    Plotly.newPlot(                        \"f6d5bf34-2687-45da-80dd-f3a7edaaa4cd\",                        [{\"line\":{\"color\":\"blue\",\"width\":5},\"mode\":\"lines\",\"name\":\"Campo Eléctrico (E)\",\"x\":[0.0,2.02020202020202e-8,4.04040404040404e-8,6.060606060606061e-8,8.08080808080808e-8,1.01010101010101e-7,1.2121212121212122e-7,1.4141414141414141e-7,1.616161616161616e-7,1.818181818181818e-7,2.02020202020202e-7,2.2222222222222222e-7,2.4242424242424244e-7,2.626262626262626e-7,2.8282828282828283e-7,3.03030303030303e-7,3.232323232323232e-7,3.4343434343434344e-7,3.636363636363636e-7,3.838383838383838e-7,4.04040404040404e-7,4.242424242424242e-7,4.4444444444444444e-7,4.646464646464646e-7,4.848484848484849e-7,5.05050505050505e-7,5.252525252525252e-7,5.454545454545454e-7,5.656565656565657e-7,5.858585858585858e-7,6.06060606060606e-7,6.262626262626263e-7,6.464646464646464e-7,6.666666666666666e-7,6.868686868686869e-7,7.07070707070707e-7,7.272727272727272e-7,7.474747474747475e-7,7.676767676767677e-7,7.878787878787878e-7,8.08080808080808e-7,8.282828282828283e-7,8.484848484848484e-7,8.686868686868686e-7,8.888888888888889e-7,9.09090909090909e-7,9.292929292929292e-7,9.494949494949495e-7,9.696969696969698e-7,9.898989898989898e-7,1.01010101010101e-6,1.0303030303030302e-6,1.0505050505050504e-6,1.0707070707070707e-6,1.0909090909090908e-6,1.111111111111111e-6,1.1313131313131313e-6,1.1515151515151514e-6,1.1717171717171716e-6,1.191919191919192e-6,1.212121212121212e-6,1.2323232323232323e-6,1.2525252525252525e-6,1.2727272727272726e-6,1.2929292929292929e-6,1.3131313131313131e-6,1.3333333333333332e-6,1.3535353535353535e-6,1.3737373737373738e-6,1.3939393939393938e-6,1.414141414141414e-6,1.4343434343434344e-6,1.4545454545454544e-6,1.4747474747474747e-6,1.494949494949495e-6,1.515151515151515e-6,1.5353535353535353e-6,1.5555555555555556e-6,1.5757575757575756e-6,1.595959595959596e-6,1.616161616161616e-6,1.6363636363636363e-6,1.6565656565656565e-6,1.6767676767676766e-6,1.6969696969696969e-6,1.7171717171717171e-6,1.7373737373737372e-6,1.7575757575757575e-6,1.7777777777777777e-6,1.7979797979797978e-6,1.818181818181818e-6,1.8383838383838384e-6,1.8585858585858584e-6,1.8787878787878787e-6,1.898989898989899e-6,1.9191919191919192e-6,1.9393939393939395e-6,1.9595959595959594e-6,1.9797979797979796e-6,2e-6],\"y\":[0.0,0.2511479871810792,0.4861967361004687,0.690079011482112,0.8497254299495144,0.9549022414440739,0.998867339183008,0.9788024462147787,0.8959937742913359,0.7557495743542583,0.5670598638627709,0.3420201433256685,0.09505604330418244,-0.15800139597335008,-0.4009305354066138,-0.6181589862206053,-0.7957618405308321,-0.9223542941045814,-0.9898214418809327,-0.9938384644612541,-0.9341478602651068,-0.8145759520503358,-0.6427876096865389,-0.4297949120891719,-0.18925124436040974,0.06342391965656492,0.31203344569848745,0.5406408174555971,0.7345917086575334,0.8814533634475821,0.9718115683235418,0.9998741276738751,0.963842158559942,0.8660254037844392,0.7126941713788629,0.5136773915734058,0.2817325568414299,0.03172793349806701,-0.22031053278654034,-0.45822652172741085,-0.6667690005162913,-0.8325698546347716,-0.9450008187146683,-0.9968547759519424,-0.9848077530122079,-0.9096319953545183,-0.7761464642917573,-0.5929079290546404,-0.3716624556603267,-0.1265924535737493,0.12659245357375007,0.3716624556603274,0.5929079290546411,0.7761464642917578,0.9096319953545179,0.984807753012208,0.9968547759519423,0.9450008187146687,0.8325698546347712,0.6667690005162907,0.45822652172741013,0.22031053278653956,-0.031727933498069585,-0.28173255684142895,-0.5136773915734064,-0.7126941713788647,-0.8660254037844377,-0.9638421585599423,-0.9998741276738751,-0.971811568323542,-0.8814533634475813,-0.7345917086575329,-0.5406408174555979,-0.312033445698485,-0.06342391965656323,0.18925124436041052,0.42979491208917103,0.6427876096865408,0.8145759520503363,0.9341478602651068,0.993838464461254,0.9898214418809325,0.922354294104581,0.7957618405308322,0.618158986220606,0.4009305354066123,0.15800139597334928,-0.09505604330418234,-0.3420201433256709,-0.567059863862769,-0.7557495743542586,-0.8959937742913372,-0.9788024462147784,-0.998867339183008,-0.9549022414440739,-0.849725429949513,-0.6900790114821107,-0.486196736100471,-0.2511479871810792,2.5729962394826186e-15],\"z\":[0.0,0.0,0.0,0.0,0.0,0.0,0.0,0.0,0.0,0.0,0.0,0.0,0.0,0.0,0.0,0.0,0.0,0.0,0.0,0.0,0.0,0.0,0.0,0.0,0.0,0.0,0.0,0.0,0.0,0.0,0.0,0.0,0.0,0.0,0.0,0.0,0.0,0.0,0.0,0.0,0.0,0.0,0.0,0.0,0.0,0.0,0.0,0.0,0.0,0.0,0.0,0.0,0.0,0.0,0.0,0.0,0.0,0.0,0.0,0.0,0.0,0.0,0.0,0.0,0.0,0.0,0.0,0.0,0.0,0.0,0.0,0.0,0.0,0.0,0.0,0.0,0.0,0.0,0.0,0.0,0.0,0.0,0.0,0.0,0.0,0.0,0.0,0.0,0.0,0.0,0.0,0.0,0.0,0.0,0.0,0.0,0.0,0.0,0.0,0.0],\"type\":\"scatter3d\"},{\"line\":{\"color\":\"red\",\"width\":5},\"mode\":\"lines\",\"name\":\"Campo Magnético (B)\",\"x\":[0.0,2.02020202020202e-8,4.04040404040404e-8,6.060606060606061e-8,8.08080808080808e-8,1.01010101010101e-7,1.2121212121212122e-7,1.4141414141414141e-7,1.616161616161616e-7,1.818181818181818e-7,2.02020202020202e-7,2.2222222222222222e-7,2.4242424242424244e-7,2.626262626262626e-7,2.8282828282828283e-7,3.03030303030303e-7,3.232323232323232e-7,3.4343434343434344e-7,3.636363636363636e-7,3.838383838383838e-7,4.04040404040404e-7,4.242424242424242e-7,4.4444444444444444e-7,4.646464646464646e-7,4.848484848484849e-7,5.05050505050505e-7,5.252525252525252e-7,5.454545454545454e-7,5.656565656565657e-7,5.858585858585858e-7,6.06060606060606e-7,6.262626262626263e-7,6.464646464646464e-7,6.666666666666666e-7,6.868686868686869e-7,7.07070707070707e-7,7.272727272727272e-7,7.474747474747475e-7,7.676767676767677e-7,7.878787878787878e-7,8.08080808080808e-7,8.282828282828283e-7,8.484848484848484e-7,8.686868686868686e-7,8.888888888888889e-7,9.09090909090909e-7,9.292929292929292e-7,9.494949494949495e-7,9.696969696969698e-7,9.898989898989898e-7,1.01010101010101e-6,1.0303030303030302e-6,1.0505050505050504e-6,1.0707070707070707e-6,1.0909090909090908e-6,1.111111111111111e-6,1.1313131313131313e-6,1.1515151515151514e-6,1.1717171717171716e-6,1.191919191919192e-6,1.212121212121212e-6,1.2323232323232323e-6,1.2525252525252525e-6,1.2727272727272726e-6,1.2929292929292929e-6,1.3131313131313131e-6,1.3333333333333332e-6,1.3535353535353535e-6,1.3737373737373738e-6,1.3939393939393938e-6,1.414141414141414e-6,1.4343434343434344e-6,1.4545454545454544e-6,1.4747474747474747e-6,1.494949494949495e-6,1.515151515151515e-6,1.5353535353535353e-6,1.5555555555555556e-6,1.5757575757575756e-6,1.595959595959596e-6,1.616161616161616e-6,1.6363636363636363e-6,1.6565656565656565e-6,1.6767676767676766e-6,1.6969696969696969e-6,1.7171717171717171e-6,1.7373737373737372e-6,1.7575757575757575e-6,1.7777777777777777e-6,1.7979797979797978e-6,1.818181818181818e-6,1.8383838383838384e-6,1.8585858585858584e-6,1.8787878787878787e-6,1.898989898989899e-6,1.9191919191919192e-6,1.9393939393939395e-6,1.9595959595959594e-6,1.9797979797979796e-6,2e-6],\"y\":[0.0,0.0,0.0,0.0,0.0,0.0,0.0,0.0,0.0,0.0,0.0,0.0,0.0,0.0,0.0,0.0,0.0,0.0,0.0,0.0,0.0,0.0,0.0,0.0,0.0,0.0,0.0,0.0,0.0,0.0,0.0,0.0,0.0,0.0,0.0,0.0,0.0,0.0,0.0,0.0,0.0,0.0,0.0,0.0,0.0,0.0,0.0,0.0,0.0,0.0,0.0,0.0,0.0,0.0,0.0,0.0,0.0,0.0,0.0,0.0,0.0,0.0,0.0,0.0,0.0,0.0,0.0,0.0,0.0,0.0,0.0,0.0,0.0,0.0,0.0,0.0,0.0,0.0,0.0,0.0,0.0,0.0,0.0,0.0,0.0,0.0,0.0,0.0,0.0,0.0,0.0,0.0,0.0,0.0,0.0,0.0,0.0,0.0,0.0,0.0],\"z\":[0.0,8.371599572702641e-10,1.6206557870015624e-9,2.3002633716070403e-9,2.8324180998317145e-9,3.183007471480246e-9,3.3295577972766935e-9,3.262674820715929e-9,2.986645914304453e-9,2.519165247847528e-9,1.890199546209236e-9,1.140067144418895e-9,3.1685347768060814e-10,-5.26671319911167e-10,-1.3364351180220459e-9,-2.0605299540686844e-9,-2.652539468436107e-9,-3.074514313681938e-9,-3.299404806269776e-9,-3.3127948815375136e-9,-3.1138262008836893e-9,-2.7152531735011197e-9,-2.1426253656217966e-9,-1.4326497069639065e-9,-6.308374812013658e-10,2.114130655218831e-10,1.040111485661625e-9,1.8021360581853237e-9,2.448639028858445e-9,2.938177878158607e-9,3.239371894411806e-9,3.3329137589129168e-9,3.212807195199807e-9,2.8867513459481304e-9,2.3756472379295432e-9,1.7122579719113525e-9,9.391085228047663e-10,1.0575977832689004e-10,-7.343684426218012e-10,-1.5274217390913696e-9,-2.2225633350543043e-9,-2.775232848782572e-9,-3.1500027290488945e-9,-3.3228492531731415e-9,-3.282692510040693e-9,-3.032106651181728e-9,-2.5871548809725244e-9,-1.976359763515468e-9,-1.238874852201089e-9,-4.2197484524583096e-10,4.219748452458336e-10,1.2388748522010914e-9,1.97635976351547e-9,2.587154880972526e-9,3.0321066511817263e-9,3.2826925100406933e-9,3.322849253173141e-9,3.1500027290488958e-9,2.7752328487825707e-9,2.2225633350543026e-9,1.527421739091367e-9,7.343684426217986e-10,-1.0575977832689862e-10,-9.391085228047632e-10,-1.7122579719113548e-9,-2.375647237929549e-9,-2.886751345948126e-9,-3.2128071951998078e-9,-3.3329137589129168e-9,-3.2393718944118068e-9,-2.9381778781586045e-9,-2.448639028858443e-9,-1.8021360581853264e-9,-1.0401114856616168e-9,-2.1141306552187743e-10,6.308374812013684e-10,1.4326497069639034e-9,2.142625365621803e-9,2.715253173501121e-9,3.1138262008836893e-9,3.3127948815375136e-9,3.299404806269775e-9,3.0745143136819368e-9,2.6525394684361075e-9,2.060529954068687e-9,1.336435118022041e-9,5.266713199111643e-10,-3.168534776806078e-10,-1.140067144418903e-9,-1.89019954620923e-9,-2.5191652478475286e-9,-2.9866459143044572e-9,-3.262674820715928e-9,-3.3295577972766935e-9,-3.183007471480246e-9,-2.83241809983171e-9,-2.3002633716070357e-9,-1.6206557870015699e-9,-8.371599572702641e-10,8.57665413160873e-24],\"type\":\"scatter3d\"}],                        {\"template\":{\"data\":{\"histogram2dcontour\":[{\"type\":\"histogram2dcontour\",\"colorbar\":{\"outlinewidth\":0,\"ticks\":\"\"},\"colorscale\":[[0.0,\"#0d0887\"],[0.1111111111111111,\"#46039f\"],[0.2222222222222222,\"#7201a8\"],[0.3333333333333333,\"#9c179e\"],[0.4444444444444444,\"#bd3786\"],[0.5555555555555556,\"#d8576b\"],[0.6666666666666666,\"#ed7953\"],[0.7777777777777778,\"#fb9f3a\"],[0.8888888888888888,\"#fdca26\"],[1.0,\"#f0f921\"]]}],\"choropleth\":[{\"type\":\"choropleth\",\"colorbar\":{\"outlinewidth\":0,\"ticks\":\"\"}}],\"histogram2d\":[{\"type\":\"histogram2d\",\"colorbar\":{\"outlinewidth\":0,\"ticks\":\"\"},\"colorscale\":[[0.0,\"#0d0887\"],[0.1111111111111111,\"#46039f\"],[0.2222222222222222,\"#7201a8\"],[0.3333333333333333,\"#9c179e\"],[0.4444444444444444,\"#bd3786\"],[0.5555555555555556,\"#d8576b\"],[0.6666666666666666,\"#ed7953\"],[0.7777777777777778,\"#fb9f3a\"],[0.8888888888888888,\"#fdca26\"],[1.0,\"#f0f921\"]]}],\"heatmap\":[{\"type\":\"heatmap\",\"colorbar\":{\"outlinewidth\":0,\"ticks\":\"\"},\"colorscale\":[[0.0,\"#0d0887\"],[0.1111111111111111,\"#46039f\"],[0.2222222222222222,\"#7201a8\"],[0.3333333333333333,\"#9c179e\"],[0.4444444444444444,\"#bd3786\"],[0.5555555555555556,\"#d8576b\"],[0.6666666666666666,\"#ed7953\"],[0.7777777777777778,\"#fb9f3a\"],[0.8888888888888888,\"#fdca26\"],[1.0,\"#f0f921\"]]}],\"heatmapgl\":[{\"type\":\"heatmapgl\",\"colorbar\":{\"outlinewidth\":0,\"ticks\":\"\"},\"colorscale\":[[0.0,\"#0d0887\"],[0.1111111111111111,\"#46039f\"],[0.2222222222222222,\"#7201a8\"],[0.3333333333333333,\"#9c179e\"],[0.4444444444444444,\"#bd3786\"],[0.5555555555555556,\"#d8576b\"],[0.6666666666666666,\"#ed7953\"],[0.7777777777777778,\"#fb9f3a\"],[0.8888888888888888,\"#fdca26\"],[1.0,\"#f0f921\"]]}],\"contourcarpet\":[{\"type\":\"contourcarpet\",\"colorbar\":{\"outlinewidth\":0,\"ticks\":\"\"}}],\"contour\":[{\"type\":\"contour\",\"colorbar\":{\"outlinewidth\":0,\"ticks\":\"\"},\"colorscale\":[[0.0,\"#0d0887\"],[0.1111111111111111,\"#46039f\"],[0.2222222222222222,\"#7201a8\"],[0.3333333333333333,\"#9c179e\"],[0.4444444444444444,\"#bd3786\"],[0.5555555555555556,\"#d8576b\"],[0.6666666666666666,\"#ed7953\"],[0.7777777777777778,\"#fb9f3a\"],[0.8888888888888888,\"#fdca26\"],[1.0,\"#f0f921\"]]}],\"surface\":[{\"type\":\"surface\",\"colorbar\":{\"outlinewidth\":0,\"ticks\":\"\"},\"colorscale\":[[0.0,\"#0d0887\"],[0.1111111111111111,\"#46039f\"],[0.2222222222222222,\"#7201a8\"],[0.3333333333333333,\"#9c179e\"],[0.4444444444444444,\"#bd3786\"],[0.5555555555555556,\"#d8576b\"],[0.6666666666666666,\"#ed7953\"],[0.7777777777777778,\"#fb9f3a\"],[0.8888888888888888,\"#fdca26\"],[1.0,\"#f0f921\"]]}],\"mesh3d\":[{\"type\":\"mesh3d\",\"colorbar\":{\"outlinewidth\":0,\"ticks\":\"\"}}],\"scatter\":[{\"fillpattern\":{\"fillmode\":\"overlay\",\"size\":10,\"solidity\":0.2},\"type\":\"scatter\"}],\"parcoords\":[{\"type\":\"parcoords\",\"line\":{\"colorbar\":{\"outlinewidth\":0,\"ticks\":\"\"}}}],\"scatterpolargl\":[{\"type\":\"scatterpolargl\",\"marker\":{\"colorbar\":{\"outlinewidth\":0,\"ticks\":\"\"}}}],\"bar\":[{\"error_x\":{\"color\":\"#2a3f5f\"},\"error_y\":{\"color\":\"#2a3f5f\"},\"marker\":{\"line\":{\"color\":\"#E5ECF6\",\"width\":0.5},\"pattern\":{\"fillmode\":\"overlay\",\"size\":10,\"solidity\":0.2}},\"type\":\"bar\"}],\"scattergeo\":[{\"type\":\"scattergeo\",\"marker\":{\"colorbar\":{\"outlinewidth\":0,\"ticks\":\"\"}}}],\"scatterpolar\":[{\"type\":\"scatterpolar\",\"marker\":{\"colorbar\":{\"outlinewidth\":0,\"ticks\":\"\"}}}],\"histogram\":[{\"marker\":{\"pattern\":{\"fillmode\":\"overlay\",\"size\":10,\"solidity\":0.2}},\"type\":\"histogram\"}],\"scattergl\":[{\"type\":\"scattergl\",\"marker\":{\"colorbar\":{\"outlinewidth\":0,\"ticks\":\"\"}}}],\"scatter3d\":[{\"type\":\"scatter3d\",\"line\":{\"colorbar\":{\"outlinewidth\":0,\"ticks\":\"\"}},\"marker\":{\"colorbar\":{\"outlinewidth\":0,\"ticks\":\"\"}}}],\"scattermapbox\":[{\"type\":\"scattermapbox\",\"marker\":{\"colorbar\":{\"outlinewidth\":0,\"ticks\":\"\"}}}],\"scatterternary\":[{\"type\":\"scatterternary\",\"marker\":{\"colorbar\":{\"outlinewidth\":0,\"ticks\":\"\"}}}],\"scattercarpet\":[{\"type\":\"scattercarpet\",\"marker\":{\"colorbar\":{\"outlinewidth\":0,\"ticks\":\"\"}}}],\"carpet\":[{\"aaxis\":{\"endlinecolor\":\"#2a3f5f\",\"gridcolor\":\"white\",\"linecolor\":\"white\",\"minorgridcolor\":\"white\",\"startlinecolor\":\"#2a3f5f\"},\"baxis\":{\"endlinecolor\":\"#2a3f5f\",\"gridcolor\":\"white\",\"linecolor\":\"white\",\"minorgridcolor\":\"white\",\"startlinecolor\":\"#2a3f5f\"},\"type\":\"carpet\"}],\"table\":[{\"cells\":{\"fill\":{\"color\":\"#EBF0F8\"},\"line\":{\"color\":\"white\"}},\"header\":{\"fill\":{\"color\":\"#C8D4E3\"},\"line\":{\"color\":\"white\"}},\"type\":\"table\"}],\"barpolar\":[{\"marker\":{\"line\":{\"color\":\"#E5ECF6\",\"width\":0.5},\"pattern\":{\"fillmode\":\"overlay\",\"size\":10,\"solidity\":0.2}},\"type\":\"barpolar\"}],\"pie\":[{\"automargin\":true,\"type\":\"pie\"}]},\"layout\":{\"autotypenumbers\":\"strict\",\"colorway\":[\"#636efa\",\"#EF553B\",\"#00cc96\",\"#ab63fa\",\"#FFA15A\",\"#19d3f3\",\"#FF6692\",\"#B6E880\",\"#FF97FF\",\"#FECB52\"],\"font\":{\"color\":\"#2a3f5f\"},\"hovermode\":\"closest\",\"hoverlabel\":{\"align\":\"left\"},\"paper_bgcolor\":\"white\",\"plot_bgcolor\":\"#E5ECF6\",\"polar\":{\"bgcolor\":\"#E5ECF6\",\"angularaxis\":{\"gridcolor\":\"white\",\"linecolor\":\"white\",\"ticks\":\"\"},\"radialaxis\":{\"gridcolor\":\"white\",\"linecolor\":\"white\",\"ticks\":\"\"}},\"ternary\":{\"bgcolor\":\"#E5ECF6\",\"aaxis\":{\"gridcolor\":\"white\",\"linecolor\":\"white\",\"ticks\":\"\"},\"baxis\":{\"gridcolor\":\"white\",\"linecolor\":\"white\",\"ticks\":\"\"},\"caxis\":{\"gridcolor\":\"white\",\"linecolor\":\"white\",\"ticks\":\"\"}},\"coloraxis\":{\"colorbar\":{\"outlinewidth\":0,\"ticks\":\"\"}},\"colorscale\":{\"sequential\":[[0.0,\"#0d0887\"],[0.1111111111111111,\"#46039f\"],[0.2222222222222222,\"#7201a8\"],[0.3333333333333333,\"#9c179e\"],[0.4444444444444444,\"#bd3786\"],[0.5555555555555556,\"#d8576b\"],[0.6666666666666666,\"#ed7953\"],[0.7777777777777778,\"#fb9f3a\"],[0.8888888888888888,\"#fdca26\"],[1.0,\"#f0f921\"]],\"sequentialminus\":[[0.0,\"#0d0887\"],[0.1111111111111111,\"#46039f\"],[0.2222222222222222,\"#7201a8\"],[0.3333333333333333,\"#9c179e\"],[0.4444444444444444,\"#bd3786\"],[0.5555555555555556,\"#d8576b\"],[0.6666666666666666,\"#ed7953\"],[0.7777777777777778,\"#fb9f3a\"],[0.8888888888888888,\"#fdca26\"],[1.0,\"#f0f921\"]],\"diverging\":[[0,\"#8e0152\"],[0.1,\"#c51b7d\"],[0.2,\"#de77ae\"],[0.3,\"#f1b6da\"],[0.4,\"#fde0ef\"],[0.5,\"#f7f7f7\"],[0.6,\"#e6f5d0\"],[0.7,\"#b8e186\"],[0.8,\"#7fbc41\"],[0.9,\"#4d9221\"],[1,\"#276419\"]]},\"xaxis\":{\"gridcolor\":\"white\",\"linecolor\":\"white\",\"ticks\":\"\",\"title\":{\"standoff\":15},\"zerolinecolor\":\"white\",\"automargin\":true,\"zerolinewidth\":2},\"yaxis\":{\"gridcolor\":\"white\",\"linecolor\":\"white\",\"ticks\":\"\",\"title\":{\"standoff\":15},\"zerolinecolor\":\"white\",\"automargin\":true,\"zerolinewidth\":2},\"scene\":{\"xaxis\":{\"backgroundcolor\":\"#E5ECF6\",\"gridcolor\":\"white\",\"linecolor\":\"white\",\"showbackground\":true,\"ticks\":\"\",\"zerolinecolor\":\"white\",\"gridwidth\":2},\"yaxis\":{\"backgroundcolor\":\"#E5ECF6\",\"gridcolor\":\"white\",\"linecolor\":\"white\",\"showbackground\":true,\"ticks\":\"\",\"zerolinecolor\":\"white\",\"gridwidth\":2},\"zaxis\":{\"backgroundcolor\":\"#E5ECF6\",\"gridcolor\":\"white\",\"linecolor\":\"white\",\"showbackground\":true,\"ticks\":\"\",\"zerolinecolor\":\"white\",\"gridwidth\":2}},\"shapedefaults\":{\"line\":{\"color\":\"#2a3f5f\"}},\"annotationdefaults\":{\"arrowcolor\":\"#2a3f5f\",\"arrowhead\":0,\"arrowwidth\":1},\"geo\":{\"bgcolor\":\"white\",\"landcolor\":\"#E5ECF6\",\"subunitcolor\":\"white\",\"showland\":true,\"showlakes\":true,\"lakecolor\":\"white\"},\"title\":{\"x\":0.05},\"mapbox\":{\"style\":\"light\"}}},\"title\":{\"text\":\"⚡ Onda electromagnética en el vacío\"},\"scene\":{\"xaxis\":{\"title\":{\"text\":\"Dirección de propagación (x)\"}},\"yaxis\":{\"title\":{\"text\":\"Campo Eléctrico (E)\"}},\"zaxis\":{\"title\":{\"text\":\"Campo Magnético (B)\"}}},\"width\":800,\"height\":600},                        {\"responsive\": true}                    ).then(function(){\n",
              "                            \n",
              "var gd = document.getElementById('f6d5bf34-2687-45da-80dd-f3a7edaaa4cd');\n",
              "var x = new MutationObserver(function (mutations, observer) {{\n",
              "        var display = window.getComputedStyle(gd).display;\n",
              "        if (!display || display === 'none') {{\n",
              "            console.log([gd, 'removed!']);\n",
              "            Plotly.purge(gd);\n",
              "            observer.disconnect();\n",
              "        }}\n",
              "}});\n",
              "\n",
              "// Listen for the removal of the full notebook cells\n",
              "var notebookContainer = gd.closest('#notebook-container');\n",
              "if (notebookContainer) {{\n",
              "    x.observe(notebookContainer, {childList: true});\n",
              "}}\n",
              "\n",
              "// Listen for the clearing of the current output cell\n",
              "var outputEl = gd.closest('.output');\n",
              "if (outputEl) {{\n",
              "    x.observe(outputEl, {childList: true});\n",
              "}}\n",
              "\n",
              "                        })                };                            </script>        </div>\n",
              "</body>\n",
              "</html>"
            ]
          },
          "metadata": {}
        }
      ],
      "source": [
        "import numpy as np\n",
        "import plotly.graph_objects as go\n",
        "\n",
        "# Definir parámetros de la onda\n",
        "c = 3e8  # Velocidad de la luz en m/s\n",
        "wavelength = 500e-9  # Longitud de onda en metros (ejemplo: luz visible)\n",
        "frequency = c / wavelength  # Frecuencia de la onda\n",
        "k = 2 * np.pi / wavelength  # Número de onda\n",
        "omega = 2 * np.pi * frequency  # Frecuencia angular\n",
        "t = 0  # Tiempo inicial\n",
        "\n",
        "# Definir el espacio de propagación\n",
        "x = np.linspace(0, 4*wavelength, 100)  # Eje de propagación\n",
        "E0 = 1  # Amplitud del campo eléctrico\n",
        "B0 = E0 / c  # Amplitud del campo magnético (Ley de Maxwell)\n",
        "\n",
        "# Calcular los campos eléctricos y magnéticos\n",
        "E_y = E0 * np.sin(k*x - omega*t)  # Campo eléctrico en dirección Y\n",
        "B_z = B0 * np.sin(k*x - omega*t)  # Campo magnético en dirección Z\n",
        "\n",
        "# Crear la figura en 3D con Plotly\n",
        "fig = go.Figure()\n",
        "\n",
        "# Agregar la onda del campo eléctrico (E)\n",
        "fig.add_trace(go.Scatter3d(\n",
        "    x=x, y=E_y, z=np.zeros_like(x),\n",
        "    mode='lines', line=dict(color='blue', width=5),\n",
        "    name=\"Campo Eléctrico (E)\"\n",
        "))\n",
        "\n",
        "# Agregar la onda del campo magnético (B)\n",
        "fig.add_trace(go.Scatter3d(\n",
        "    x=x, y=np.zeros_like(x), z=B_z,\n",
        "    mode='lines', line=dict(color='red', width=5),\n",
        "    name=\"Campo Magnético (B)\"\n",
        "))\n",
        "\n",
        "# Configuración del gráfico\n",
        "fig.update_layout(\n",
        "    title=\"⚡ Onda electromagnética en el vacío\",\n",
        "    scene=dict(\n",
        "        xaxis_title=\"Dirección de propagación (x)\",\n",
        "        yaxis_title=\"Campo Eléctrico (E)\",\n",
        "        zaxis_title=\"Campo Magnético (B)\"\n",
        "    ),\n",
        "    width=800, height=600\n",
        ")\n",
        "\n",
        "# Mostrar la visualización interactiva\n",
        "fig.show()"
      ]
    },
    {
      "cell_type": "markdown",
      "source": [
        "---\n",
        "\n",
        "## 📊 Resultados  \n",
        "A través de la simulacion interactiva, se obtiene los siguientes hallazgos:  \n",
        "\n",
        "✅ **Oscilación perpendicular**: Se observó que los campos **eléctrico** (\\(E\\)) y **magnético** (\\(B\\)) oscilan en direcciones ortogonales entre sí y al vector de propagación.  \n",
        "✅ **Velocidad de la luz**: Se verificó que la relación entre la intensidad de los campos eléctricos y magnéticos en el vacío está determinada por la constante de la velocidad de la luz $((c = 3 \\times 10^8) m/s)$.  \n",
        "✅ **Polarización**: Se analizó cómo la orientación del campo eléctrico puede ser modificada, lo que permite entender fenómenos como la polarización de la luz en filtros ópticos.  \n",
        "\n"
      ],
      "metadata": {
        "id": "AaVF8kyXqEFR"
      }
    },
    {
      "cell_type": "markdown",
      "source": [
        "## 🔎 Conclusiones  \n",
        "Los resultados obtenidos refuerzan la comprensión de la naturaleza ondulatoria de la luz y su propagación como una onda electromagnética.  \n",
        "\n",
        "📌 Se confirmó que los campos **eléctrico** y **magnético** están acoplados y oscilan perpendicularmente al vector de propagación, validando las predicciones de las ecuaciones de Maxwell.  \n",
        "📌 Se demostró que la propagación de la luz en el vacío sigue la ecuación de onda electromagnética, con una velocidad determinada por las constantes fundamentales de la permittividad y la permeabilidad del vacío.  \n",
        "📌 La simulación interactiva permitió visualizar cómo los cambios en la orientación del campo eléctrico afectan la polarización de la luz, con aplicaciones en telecomunicaciones y óptica avanzada.  \n",
        "\n",
        "\n",
        "\n"
      ],
      "metadata": {
        "id": "KYxGImnjqN0b"
      }
    },
    {
      "cell_type": "markdown",
      "source": [
        "### 📚 Referencias  \n",
        "- Griffiths, D. J. (2017). *Introduction to Electrodynamics* (4th ed.). Cambridge University Press.  \n",
        "- Jackson, J. D. (1999). *Classical Electrodynamics* (3rd ed.). Wiley.  \n",
        "- Hecht, E. (2017). *Optics* (5th ed.). Pearson.  \n",
        "\n",
        "\n",
        "\n"
      ],
      "metadata": {
        "id": "rDQhYoKZqSFU"
      }
    },
    {
      "cell_type": "markdown",
      "source": [
        "## 🚀 ¡Explora y experimenta!  \n",
        "Te invitamos a modificar los parámetros en el código interactivo para observar cómo se comportan los campos eléctrico y magnético en diferentes condiciones. Reflexiona sobre cómo estos principios se aplican en tecnologías como la fibra óptica y las comunicaciones inalámbricas. 📡⚡  \n"
      ],
      "metadata": {
        "id": "yZ846LgZqTaH"
      }
    }
  ]
}