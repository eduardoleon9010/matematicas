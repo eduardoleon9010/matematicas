{
  "nbformat": 4,
  "nbformat_minor": 0,
  "metadata": {
    "colab": {
      "provenance": []
    },
    "kernelspec": {
      "name": "python3",
      "display_name": "Python 3"
    },
    "language_info": {
      "name": "python"
    }
  },
  "cells": [
    {
      "cell_type": "markdown",
      "source": [
        "# 🔢 Circuito lógico Semi-sumador  \n",
        "\n",
        "## Introducción  \n",
        "El **semi-sumador** es un circuito lógico fundamental en electrónica digital. Su función principal es **sumar dos bits de entrada** y producir dos salidas: la **suma (S)** y el **acarreo (C)**. Para ello, se emplean **puertas lógicas XOR y AND**.  \n",
        "\n",
        "El diseño de un semi-sumador es esencial en la construcción de sumadores completos y otros circuitos aritméticos más avanzados. Su lógica se basa en el **sistema binario**, donde la suma de dos bits puede generar un acarreo si el resultado supera el valor máximo permitido para un solo bit (1).  \n",
        "\n"
      ],
      "metadata": {
        "id": "W9d6t_aOCBKo"
      }
    },
    {
      "cell_type": "code",
      "source": [
        "!pip install schemdraw"
      ],
      "metadata": {
        "colab": {
          "base_uri": "https://localhost:8080/"
        },
        "id": "6z-Wo6nRChdw",
        "outputId": "48fea861-7707-4278-b3bd-fd3e9c167628"
      },
      "execution_count": 2,
      "outputs": [
        {
          "output_type": "stream",
          "name": "stdout",
          "text": [
            "Collecting schemdraw\n",
            "  Downloading schemdraw-0.20-py3-none-any.whl.metadata (2.2 kB)\n",
            "Downloading schemdraw-0.20-py3-none-any.whl (151 kB)\n",
            "\u001b[2K   \u001b[90m━━━━━━━━━━━━━━━━━━━━━━━━━━━━━━━━━━━━━━━━\u001b[0m \u001b[32m151.9/151.9 kB\u001b[0m \u001b[31m3.1 MB/s\u001b[0m eta \u001b[36m0:00:00\u001b[0m\n",
            "\u001b[?25hInstalling collected packages: schemdraw\n",
            "Successfully installed schemdraw-0.20\n"
          ]
        }
      ]
    },
    {
      "cell_type": "code",
      "execution_count": 3,
      "metadata": {
        "colab": {
          "base_uri": "https://localhost:8080/",
          "height": 225
        },
        "id": "YJku6xyuB_8C",
        "outputId": "492a7164-9ee8-4e1b-c5e9-ac73e9999511"
      },
      "outputs": [
        {
          "output_type": "display_data",
          "data": {
            "text/plain": [
              "<schemdraw.backends.mpl.Figure object at 0x7ee978e2df10>"
            ],
            "image/svg+xml": "<?xml version=\"1.0\" encoding=\"utf-8\" standalone=\"no\"?>\n<!DOCTYPE svg PUBLIC \"-//W3C//DTD SVG 1.1//EN\"\n  \"http://www.w3.org/Graphics/SVG/1.1/DTD/svg11.dtd\">\n<svg xmlns:xlink=\"http://www.w3.org/1999/xlink\" width=\"158.713224pt\" height=\"152.96pt\" viewBox=\"0 0 158.713224 152.96\" xmlns=\"http://www.w3.org/2000/svg\" version=\"1.1\">\n <metadata>\n  <rdf:RDF xmlns:dc=\"http://purl.org/dc/elements/1.1/\" xmlns:cc=\"http://creativecommons.org/ns#\" xmlns:rdf=\"http://www.w3.org/1999/02/22-rdf-syntax-ns#\">\n   <cc:Work>\n    <dc:type rdf:resource=\"http://purl.org/dc/dcmitype/StillImage\"/>\n    <dc:date>2025-03-25T20:41:48.368677</dc:date>\n    <dc:format>image/svg+xml</dc:format>\n    <dc:creator>\n     <cc:Agent>\n      <dc:title>Matplotlib v3.10.0, https://matplotlib.org/</dc:title>\n     </cc:Agent>\n    </dc:creator>\n   </cc:Work>\n  </rdf:RDF>\n </metadata>\n <defs>\n  <style type=\"text/css\">*{stroke-linejoin: round; stroke-linecap: butt}</style>\n </defs>\n <g id=\"figure_1\">\n  <g id=\"patch_1\">\n   <path d=\"M 0 152.96 \nL 158.713224 152.96 \nL 158.713224 0 \nL 0 0 \nz\n\" style=\"fill: #ffffff\"/>\n  </g>\n  <g id=\"axes_1\">\n   <g id=\"line2d_1\">\n    <path d=\"M 93.529224 87.62 \nL 113.072081 87.553878 \nL 115.129224 87.26 \nL 117.186366 86.73102 \nL 119.243509 85.966939 \nL 121.300652 84.967755 \nL 123.357795 83.733469 \nL 125.414938 82.264082 \nL 127.472081 80.559592 \nL 130.043509 78.098367 \nL 132.614938 75.269796 \nL 135.186366 72.073878 \nL 136.729224 69.98 \nL 136.729224 69.98 \nL 134.157795 66.563673 \nL 131.586366 63.514694 \nL 129.014938 60.833061 \nL 126.443509 58.518776 \nL 124.386366 56.931837 \nL 122.329224 55.58 \nL 120.272081 54.463265 \nL 118.214938 53.581633 \nL 116.157795 52.935102 \nL 114.100652 52.523673 \nL 112.043509 52.347347 \nL 111.529224 52.34 \nL 93.529224 52.34 \nL 93.529224 52.34 \nL 95.516424 54.5 \nL 97.244424 56.66 \nL 98.713224 58.82 \nL 99.922824 60.98 \nL 100.873224 63.14 \nL 101.564424 65.3 \nL 101.996424 67.46 \nL 102.169224 69.62 \nL 102.082824 71.78 \nL 101.737224 73.94 \nL 101.132424 76.1 \nL 100.268424 78.26 \nL 99.145224 80.42 \nL 97.762824 82.58 \nL 96.121224 84.74 \nL 94.220424 86.9 \nL 93.529224 87.62 \nL 93.529224 87.62 \n\" clip-path=\"url(#pd3a65867ba)\" style=\"fill: none; stroke: #000000; stroke-width: 2; stroke-linecap: round\"/>\n   </g>\n   <g id=\"line2d_2\">\n    <path d=\"M 88.129224 87.62 \nL 88.820424 86.9 \nL 89.482824 86.18 \nL 90.116424 85.46 \nL 90.721224 84.74 \nL 91.297224 84.02 \nL 91.844424 83.3 \nL 92.362824 82.58 \nL 92.852424 81.86 \nL 93.313224 81.14 \nL 93.745224 80.42 \nL 94.148424 79.7 \nL 94.522824 78.98 \nL 94.868424 78.26 \nL 95.185224 77.54 \nL 95.473224 76.82 \nL 95.732424 76.1 \nL 95.962824 75.38 \nL 96.164424 74.66 \nL 96.337224 73.94 \nL 96.481224 73.22 \nL 96.596424 72.5 \nL 96.682824 71.78 \nL 96.740424 71.06 \nL 96.769224 70.34 \nL 96.769224 69.62 \nL 96.740424 68.9 \nL 96.682824 68.18 \nL 96.596424 67.46 \nL 96.481224 66.74 \nL 96.337224 66.02 \nL 96.164424 65.3 \nL 95.962824 64.58 \nL 95.732424 63.86 \nL 95.473224 63.14 \nL 95.185224 62.42 \nL 94.868424 61.7 \nL 94.522824 60.98 \nL 94.148424 60.26 \nL 93.745224 59.54 \nL 93.313224 58.82 \nL 92.852424 58.1 \nL 92.362824 57.38 \nL 91.844424 56.66 \nL 91.297224 55.94 \nL 90.721224 55.22 \nL 90.116424 54.5 \nL 89.482824 53.78 \nL 88.820424 53.06 \nL 88.129224 52.34 \n\" clip-path=\"url(#pd3a65867ba)\" style=\"fill: none; stroke: #000000; stroke-width: 2; stroke-linecap: round\"/>\n   </g>\n   <g id=\"line2d_3\">\n    <path d=\"M 80.929224 78.98 \nL 94.522824 78.98 \n\" clip-path=\"url(#pd3a65867ba)\" style=\"fill: none; stroke: #000000; stroke-width: 2; stroke-linecap: round\"/>\n   </g>\n   <g id=\"line2d_4\">\n    <path d=\"M 80.929224 60.98 \nL 94.522824 60.98 \n\" clip-path=\"url(#pd3a65867ba)\" style=\"fill: none; stroke: #000000; stroke-width: 2; stroke-linecap: round\"/>\n   </g>\n   <g id=\"line2d_5\">\n    <path d=\"M 136.729224 69.98 \nL 149.329224 69.98 \n\" clip-path=\"url(#pd3a65867ba)\" style=\"fill: none; stroke: #000000; stroke-width: 2; stroke-linecap: round\"/>\n   </g>\n   <g id=\"line2d_6\">\n    <path d=\"M 80.929224 78.98 \nL 71.929224 78.98 \nL 62.929224 78.98 \n\" clip-path=\"url(#pd3a65867ba)\" style=\"fill: none; stroke: #000000; stroke-width: 2; stroke-linecap: round\"/>\n   </g>\n   <g id=\"line2d_7\">\n    <path d=\"M 35.929224 114.98 \nL 35.966207 116.133264 \nL 36.077003 117.281789 \nL 36.261159 118.420855 \nL 36.517916 119.545783 \nL 36.84622 120.651948 \nL 37.244722 121.734806 \nL 37.711784 122.789907 \nL 38.245487 123.812916 \nL 38.843638 124.799628 \nL 39.503778 125.74599 \nL 40.223196 126.648111 \nL 40.998935 127.502286 \nL 41.827808 128.305004 \nL 42.706407 129.052967 \nL 43.631124 129.743101 \nL 44.598157 130.37257 \nL 45.603534 130.938788 \nL 46.643123 131.439427 \nL 47.712653 131.872432 \nL 48.807727 132.236021 \nL 49.923847 132.528702 \nL 51.056425 132.749272 \nL 52.200809 132.896824 \nL 53.352295 132.970752 \nL 54.506152 132.970752 \nL 55.657638 132.896824 \nL 56.802022 132.749272 \nL 57.9346 132.528702 \nL 59.05072 132.236021 \nL 60.145795 131.872432 \nL 61.215324 131.439427 \nL 62.254913 130.938788 \nL 63.26029 130.37257 \nL 64.227323 129.743101 \nL 65.15204 129.052967 \nL 66.03064 128.305004 \nL 66.859512 127.502286 \nL 67.635251 126.648111 \nL 68.354669 125.74599 \nL 69.014809 124.799628 \nL 69.61296 123.812916 \nL 70.146663 122.789907 \nL 70.613725 121.734806 \nL 71.012227 120.651948 \nL 71.340531 119.545783 \nL 71.597288 118.420855 \nL 71.781444 117.281789 \nL 71.892241 116.133264 \nL 71.929224 114.98 \nL 71.929224 114.98 \nL 71.929224 91.58 \nL 53.929224 91.58 \nL 35.929224 91.58 \nL 35.929224 114.98 \n\" clip-path=\"url(#pd3a65867ba)\" style=\"fill: none; stroke: #000000; stroke-width: 2; stroke-linecap: round\"/>\n   </g>\n   <g id=\"line2d_8\">\n    <path d=\"M 44.929224 78.98 \nL 44.929224 91.58 \n\" clip-path=\"url(#pd3a65867ba)\" style=\"fill: none; stroke: #000000; stroke-width: 2; stroke-linecap: round\"/>\n   </g>\n   <g id=\"line2d_9\">\n    <path d=\"M 62.929224 78.98 \nL 62.929224 91.58 \n\" clip-path=\"url(#pd3a65867ba)\" style=\"fill: none; stroke: #000000; stroke-width: 2; stroke-linecap: round\"/>\n   </g>\n   <g id=\"line2d_10\">\n    <path d=\"M 53.929224 132.98 \nL 53.929224 145.58 \n\" clip-path=\"url(#pd3a65867ba)\" style=\"fill: none; stroke: #000000; stroke-width: 2; stroke-linecap: round\"/>\n   </g>\n   <g id=\"line2d_11\">\n    <path d=\"M 44.929224 78.98 \nL 24.804612 78.98 \nL 4.68 78.98 \n\" clip-path=\"url(#pd3a65867ba)\" style=\"fill: none; stroke: #000000; stroke-width: 2; stroke-linecap: round\"/>\n   </g>\n   <g id=\"patch_2\">\n    <path d=\"M 80.929224 27.68 \nC 81.645272 27.68 82.332089 27.395511 82.838412 26.889188 \nC 83.344735 26.382866 83.629224 25.696048 83.629224 24.98 \nC 83.629224 24.263952 83.344735 23.577134 82.838412 23.070812 \nC 82.332089 22.564489 81.645272 22.28 80.929224 22.28 \nC 80.213175 22.28 79.526358 22.564489 79.020035 23.070812 \nC 78.513713 23.577134 78.229224 24.263952 78.229224 24.98 \nC 78.229224 25.696048 78.513713 26.382866 79.020035 26.889188 \nC 79.526358 27.395511 80.213175 27.68 80.929224 27.68 \nz\n\" clip-path=\"url(#pd3a65867ba)\" style=\"fill: #ffffff; stroke: #000000; stroke-width: 2; stroke-linejoin: miter\"/>\n   </g>\n   <g id=\"text_1\">\n    <!-- X -->\n    <g transform=\"translate(76.134224 15.768437) scale(0.14 -0.14)\">\n     <defs>\n      <path id=\"DejaVuSans-58\" d=\"M 403 4666 \nL 1081 4666 \nL 2241 2931 \nL 3406 4666 \nL 4084 4666 \nL 2584 2425 \nL 4184 0 \nL 3506 0 \nL 2194 1984 \nL 872 0 \nL 191 0 \nL 1856 2491 \nL 403 4666 \nz\n\" transform=\"scale(0.015625)\"/>\n     </defs>\n     <use xlink:href=\"#DejaVuSans-58\"/>\n    </g>\n   </g>\n   <g id=\"patch_3\">\n    <path d=\"M 80.929224 63.68 \nC 81.645272 63.68 82.332089 63.395511 82.838412 62.889188 \nC 83.344735 62.382866 83.629224 61.696048 83.629224 60.98 \nC 83.629224 60.263952 83.344735 59.577134 82.838412 59.070812 \nC 82.332089 58.564489 81.645272 58.28 80.929224 58.28 \nC 80.213175 58.28 79.526358 58.564489 79.020035 59.070812 \nC 78.513713 59.577134 78.229224 60.263952 78.229224 60.98 \nC 78.229224 61.696048 78.513713 62.382866 79.020035 62.889188 \nC 79.526358 63.395511 80.213175 63.68 80.929224 63.68 \nz\n\" clip-path=\"url(#pd3a65867ba)\" style=\"fill: #ffffff; stroke: #000000; stroke-width: 2; stroke-linejoin: miter\"/>\n   </g>\n   <g id=\"text_2\">\n    <!-- Y -->\n    <g transform=\"translate(76.653755 51.768437) scale(0.14 -0.14)\">\n     <defs>\n      <path id=\"DejaVuSans-59\" d=\"M -13 4666 \nL 666 4666 \nL 1959 2747 \nL 3244 4666 \nL 3922 4666 \nL 2272 2222 \nL 2272 0 \nL 1638 0 \nL 1638 2222 \nL -13 4666 \nz\n\" transform=\"scale(0.015625)\"/>\n     </defs>\n     <use xlink:href=\"#DejaVuSans-59\"/>\n    </g>\n   </g>\n   <g id=\"patch_4\">\n    <path d=\"M 149.329224 72.68 \nC 150.045272 72.68 150.732089 72.395511 151.238412 71.889188 \nC 151.744735 71.382866 152.029224 70.696048 152.029224 69.98 \nC 152.029224 69.263952 151.744735 68.577134 151.238412 68.070812 \nC 150.732089 67.564489 150.045272 67.28 149.329224 67.28 \nC 148.613175 67.28 147.926358 67.564489 147.420035 68.070812 \nC 146.913713 68.577134 146.629224 69.263952 146.629224 69.98 \nC 146.629224 70.696048 146.913713 71.382866 147.420035 71.889188 \nC 147.926358 72.395511 148.613175 72.68 149.329224 72.68 \nz\n\" clip-path=\"url(#pd3a65867ba)\" style=\"fill: #ffffff; stroke: #000000; stroke-width: 2; stroke-linejoin: miter\"/>\n   </g>\n   <g id=\"text_3\">\n    <!-- S -->\n    <g transform=\"translate(144.885317 60.768437) scale(0.14 -0.14)\">\n     <defs>\n      <path id=\"DejaVuSans-53\" d=\"M 3425 4513 \nL 3425 3897 \nQ 3066 4069 2747 4153 \nQ 2428 4238 2131 4238 \nQ 1616 4238 1336 4038 \nQ 1056 3838 1056 3469 \nQ 1056 3159 1242 3001 \nQ 1428 2844 1947 2747 \nL 2328 2669 \nQ 3034 2534 3370 2195 \nQ 3706 1856 3706 1288 \nQ 3706 609 3251 259 \nQ 2797 -91 1919 -91 \nQ 1588 -91 1214 -16 \nQ 841 59 441 206 \nL 441 856 \nQ 825 641 1194 531 \nQ 1563 422 1919 422 \nQ 2459 422 2753 634 \nQ 3047 847 3047 1241 \nQ 3047 1584 2836 1778 \nQ 2625 1972 2144 2069 \nL 1759 2144 \nQ 1053 2284 737 2584 \nQ 422 2884 422 3419 \nQ 422 4038 858 4394 \nQ 1294 4750 2059 4750 \nQ 2388 4750 2728 4690 \nQ 3069 4631 3425 4513 \nz\n\" transform=\"scale(0.015625)\"/>\n     </defs>\n     <use xlink:href=\"#DejaVuSans-53\"/>\n    </g>\n   </g>\n   <g id=\"patch_5\">\n    <path d=\"M 53.929224 148.28 \nC 54.645272 148.28 55.332089 147.995511 55.838412 147.489188 \nC 56.344735 146.982866 56.629224 146.296048 56.629224 145.58 \nC 56.629224 144.863952 56.344735 144.177134 55.838412 143.670812 \nC 55.332089 143.164489 54.645272 142.88 53.929224 142.88 \nC 53.213175 142.88 52.526358 143.164489 52.020035 143.670812 \nC 51.513713 144.177134 51.229224 144.863952 51.229224 145.58 \nC 51.229224 146.296048 51.513713 146.982866 52.020035 147.489188 \nC 52.526358 147.995511 53.213175 148.28 53.929224 148.28 \nz\n\" clip-path=\"url(#pd3a65867ba)\" style=\"fill: #ffffff; stroke: #000000; stroke-width: 2; stroke-linejoin: miter\"/>\n   </g>\n   <g id=\"text_4\">\n    <!-- C -->\n    <g transform=\"translate(49.041255 136.368437) scale(0.14 -0.14)\">\n     <defs>\n      <path id=\"DejaVuSans-43\" d=\"M 4122 4306 \nL 4122 3641 \nQ 3803 3938 3442 4084 \nQ 3081 4231 2675 4231 \nQ 1875 4231 1450 3742 \nQ 1025 3253 1025 2328 \nQ 1025 1406 1450 917 \nQ 1875 428 2675 428 \nQ 3081 428 3442 575 \nQ 3803 722 4122 1019 \nL 4122 359 \nQ 3791 134 3420 21 \nQ 3050 -91 2638 -91 \nQ 1578 -91 968 557 \nQ 359 1206 359 2328 \nQ 359 3453 968 4101 \nQ 1578 4750 2638 4750 \nQ 3056 4750 3426 4639 \nQ 3797 4528 4122 4306 \nz\n\" transform=\"scale(0.015625)\"/>\n     </defs>\n     <use xlink:href=\"#DejaVuSans-43\"/>\n    </g>\n   </g>\n  </g>\n </g>\n <defs>\n  <clipPath id=\"pd3a65867ba\">\n   <rect x=\"0\" y=\"-0\" width=\"158.713224\" height=\"152.96\"/>\n  </clipPath>\n </defs>\n</svg>\n",
            "image/png": "[encoded data removed]"
          },
          "metadata": {}
        }
      ],
      "source": [
        "import schemdraw\n",
        "import schemdraw.logic as logic\n",
        "\n",
        "# Crear el diagrama del circuito semi-sumador\n",
        "with schemdraw.Drawing() as d:\n",
        "    # Entradas X y Y\n",
        "    x = d.add(logic.Dot(open=True, label=\"X\"))\n",
        "    y = d.add(logic.Dot(open=True, label=\"Y\", at=(0, -1)))\n",
        "\n",
        "    # Puerta XOR para la suma (S)\n",
        "    xor1 = d.add(logic.Xor().right().anchor('in1'))\n",
        "    d.add(logic.Line().left().at(xor1.in2).to(y.end))  # Conectar Y a XOR\n",
        "\n",
        "    # Puerta AND para el acarreo (C)\n",
        "    and1 = d.add(logic.And().down().anchor('in1'))\n",
        "    d.add(logic.Line().left().at(and1.in2).to(y.end))  # Conectar Y a AND\n",
        "\n",
        "    # Salidas S y C\n",
        "    d.add(logic.Dot(open=True, label=\"S\", at=xor1.out))\n",
        "    d.add(logic.Dot(open=True, label=\"C\", at=and1.out))\n",
        "\n",
        "    d.draw()"
      ]
    },
    {
      "cell_type": "markdown",
      "source": [
        "## Resultados  \n",
        "A continuación, se presenta el circuito lógico de un **semi-sumador** utilizando puertas XOR y AND:  \n",
        "\n",
        "- **Suma (S):** Se obtiene mediante la **puerta XOR** de las entradas `X` y `Y`.  \n",
        "- **Acarreo (C):** Se obtiene mediante la **puerta AND** de las mismas entradas.  \n",
        "\n",
        "Ejemplo de operación:  \n",
        "\n",
        "| X | Y | S (XOR) | C (AND) |\n",
        "|---|---|---------|---------|\n",
        "| 0 | 0 | 0       | 0       |\n",
        "| 0 | 1 | 1       | 0       |\n",
        "| 1 | 0 | 1       | 0       |\n",
        "| 1 | 1 | 0       | 1       |\n",
        "\n",
        "Como se observa, la operación sigue las reglas del sistema binario.  \n",
        "\n",
        "## Conclusiones  \n",
        "El semi-sumador es una pieza clave en la lógica digital y la aritmética computacional. Su simplicidad permite la construcción de circuitos más avanzados, como el **sumador completo**, que incorpora una entrada adicional de acarreo.  \n",
        "\n",
        "Gracias a la combinación de **puertas lógicas básicas**, este circuito realiza operaciones esenciales en sistemas digitales y microprocesadores, facilitando cálculos en hardware.  \n",
        "\n",
        "### Referencias  \n",
        "- Mano, M. M., & Kime, C. R. (2018). *Logic and Computer Design Fundamentals* (5ta ed.). Pearson.  \n",
        "- Floyd, T. L. (2021). *Digital Fundamentals* (11va ed.). Pearson.  \n",
        "- Malvino, A., & Brown, J. A. (2020). *Principios de Electrónica Digital* (7ma ed.). McGraw-Hill.  "
      ],
      "metadata": {
        "id": "bNuGPm1GCBWx"
      }
    }
  ]
}