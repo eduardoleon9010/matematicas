{
  "nbformat": 4,
  "nbformat_minor": 0,
  "metadata": {
    "colab": {
      "provenance": []
    },
    "kernelspec": {
      "name": "python3",
      "display_name": "Python 3"
    },
    "language_info": {
      "name": "python"
    }
  },
  "cells": [
    {
      "cell_type": "markdown",
      "source": [
        "# 📘 Demostración de la Fórmula de Bhaskara (Ecuación Cuadrática)\n",
        "\n",
        "En este notebook, explicare y demostrare la **fórmula de Bhaskara** utilizada para resolver ecuaciones cuadráticas de la forma:\n",
        "ax^2 + bx + c = 0\n",
        "\n",
        "donde (a), (b) y (c) son coeficientes reales y (a 0).\n",
        "\n",
        "\n"
      ],
      "metadata": {
        "id": "T3n6tagFE8iD"
      }
    },
    {
      "cell_type": "markdown",
      "source": [
        "## 💻 Implementación en Python\n",
        "A continuación, escribimos un código en Python que resuelve ecuaciones cuadráticas utilizando la fórmula de Bhaskara."
      ],
      "metadata": {
        "id": "vxntUwvxGAce"
      }
    },
    {
      "cell_type": "code",
      "execution_count": 1,
      "metadata": {
        "id": "WBGUdtZrE0wv"
      },
      "outputs": [],
      "source": [
        "import numpy as np\n",
        "\n",
        "def resolver_ecuacion_cuadratica(a, b, c):\n",
        "    \"\"\"\n",
        "    Resuelve una ecuación cuadrática usando la fórmula de Bhaskara.\n",
        "    Parámetros:\n",
        "        a (float): Coeficiente cuadrático\n",
        "        b (float): Coeficiente lineal\n",
        "        c (float): Término independiente\n",
        "    Retorna:\n",
        "        Una tupla con las soluciones reales o un mensaje indicando raíces complejas.\n",
        "    \"\"\"\n",
        "    if a == 0:\n",
        "        return \"El coeficiente 'a' no puede ser cero en una ecuación cuadrática.\"\n",
        "\n",
        "    # Calculamos el discriminante Δ = b² - 4ac\n",
        "    delta = b**2 - 4*a*c\n",
        "\n",
        "    # Verificamos el valor de Δ\n",
        "    if delta > 0:\n",
        "        raiz_delta = np.sqrt(delta)\n",
        "        x1 = (-b + raiz_delta) / (2*a)\n",
        "        x2 = (-b - raiz_delta) / (2*a)\n",
        "        return (x1, x2)  # Dos soluciones reales distintas\n",
        "    elif delta == 0:\n",
        "        x = -b / (2*a)\n",
        "        return (x,)  # Solución única\n",
        "    else:\n",
        "        return \"Las raíces son complejas (números imaginarios).\""
      ]
    },
    {
      "cell_type": "markdown",
      "source": [
        "## 🔍Prueba de la fórmula\n",
        "Ahora probamos la función con diferentes valores de 𝑎, 𝑏, 𝑐."
      ],
      "metadata": {
        "id": "Fcrvr-wkGJ1A"
      }
    },
    {
      "cell_type": "code",
      "source": [
        "ejemplos = [\n",
        "    (1, -3, 2),  # Raíces reales distintas\n",
        "    (1, -2, 1),  # Raíz única (Δ = 0)\n",
        "    (1, 2, 5)    # Raíces complejas (Δ < 0)\n",
        "]\n",
        "\n",
        "for a, b, c in ejemplos:\n",
        "    print(f\"Ecuación: {a}x² + {b}x + {c} = 0\")\n",
        "    print(\"Soluciones:\", resolver_ecuacion_cuadratica(a, b, c))\n",
        "    print(\"-\"*40)"
      ],
      "metadata": {
        "colab": {
          "base_uri": "https://localhost:8080/"
        },
        "id": "QoC3L-uDGaYO",
        "outputId": "f4785b80-7219-4e7e-b5ff-56ddcffb553a"
      },
      "execution_count": 2,
      "outputs": [
        {
          "output_type": "stream",
          "name": "stdout",
          "text": [
            "Ecuación: 1x² + -3x + 2 = 0\n",
            "Soluciones: (np.float64(2.0), np.float64(1.0))\n",
            "----------------------------------------\n",
            "Ecuación: 1x² + -2x + 1 = 0\n",
            "Soluciones: (1.0,)\n",
            "----------------------------------------\n",
            "Ecuación: 1x² + 2x + 5 = 0\n",
            "Soluciones: Las raíces son complejas (números imaginarios).\n",
            "----------------------------------------\n"
          ]
        }
      ]
    },
    {
      "cell_type": "markdown",
      "source": [
        "###📝 ¡Tu turno!\n",
        "Ahora intenta resolver la ecuación cuadrática con los siguientes valores:\n",
        "\n",
        "a=2,b=−4,c=−6\n",
        "\n",
        "\n",
        "a=1,b=−6,c=9\n",
        "\n",
        "\n",
        "a=1,b=1,c=1 (¡Cuidado con Δ!)\n",
        "\n",
        "Ejecuta la función `resolver_ecuacion_cuadratica(a, b, c)` con estos valores y verifica los resultados."
      ],
      "metadata": {
        "id": "PYwzVddFGrVF"
      }
    },
    {
      "cell_type": "markdown",
      "source": [
        "## 🎯 Conclusión\n",
        "\n",
        "En este notebook, hemos demostrado la **fórmula de Bhaskara** paso a paso, desde su derivación matemática hasta su implementación en **Python**.\n",
        "\n",
        "- Aprendimos que la ecuación cuadrática general es:\n",
        "\n",
        "  $$\n",
        "  ax^2 + bx + c = 0\n",
        "  $$\n",
        "\n",
        "  y que sus soluciones dependen del **discriminante** Delta:\n",
        "\n",
        "  $$\n",
        "  \\Delta = b^2 - 4ac\n",
        "  $$\n",
        "\n",
        "  - **Si** Delta > 0 → La ecuación tiene **dos soluciones reales distintas**.  \n",
        "  - **Si** Delta = 0 → La ecuación tiene **una única solución real** (raíz doble).  \n",
        "  - **Si** Delta < 0 → La ecuación no tiene soluciones reales, sino **raíces complejas**.\n",
        "\n",
        "- También hemos implementado la fórmula en **Python**, probando distintos casos para visualizar los diferentes tipos de soluciones.\n",
        "\n",
        "✅ **Ejercicio sugerido**: Experimenta con otros valores de (a, b, c) y analiza los resultados obtenidos. ¿Qué ocurre si ( a ) es negativo? ¿Cómo influye el valor de ( b \\?\n",
        "\n",
        "📌 **Reflexion**: La fórmula de Bhaskara es una herramienta fundamental en el álgebra y su implementación en **Python** nos permite resolver ecuaciones cuadráticas de manera eficiente y automática.\n",
        "\n",
        "¡Sigue practicando y explorando más aplicaciones en matemáticas y programación! 🚀\n"
      ],
      "metadata": {
        "id": "vDdm2IrRHaXv"
      }
    }
  ]
}